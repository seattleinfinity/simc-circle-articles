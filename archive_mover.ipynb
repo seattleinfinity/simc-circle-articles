{
 "cells": [
  {
   "cell_type": "code",
   "execution_count": 1,
   "metadata": {},
   "outputs": [],
   "source": [
    "import re\n",
    "import os\n",
    "import shutil"
   ]
  },
  {
   "cell_type": "code",
   "execution_count": 2,
   "metadata": {},
   "outputs": [],
   "source": [
    "issues = {\n",
    "    \"circle.Vol1.tex\": \"sept22\",\n",
    "    \"circle.Vol2.tex\": \"oct22\",\n",
    "    \"circle.Vol3.tex\": \"dec22\",\n",
    "    \"circle.Vol4.tex\": \"jan23\",\n",
    "    \"circle.Vol5.tex\": \"apr23\"\n",
    "}"
   ]
  },
  {
   "cell_type": "code",
   "execution_count": 3,
   "metadata": {},
   "outputs": [],
   "source": [
    "def slug_author(author):\n",
    "    parts = author.split(\" \")\n",
    "    return (parts[0] + parts[-1][0]).lower()\n",
    "\n",
    "def slug_title(title):\n",
    "    return re.sub(r\"[^\\w]\", \"\", title.lower())"
   ]
  },
  {
   "cell_type": "code",
   "execution_count": 4,
   "metadata": {},
   "outputs": [],
   "source": [
    "article_pattern = r\"\\\\articletitle{(.+)}{(.+)}{}((?:.|\\n)+?)\\\\closearticle\"\n",
    "\n",
    "def extract(old_issue, new_issue):\n",
    "    with open(f\"./archive/{old_issue}\", encoding=\"utf8\") as fin:\n",
    "        source = fin.read()\n",
    "\n",
    "    os.makedirs(f\"{new_issue}/images\", exist_ok=True)\n",
    "\n",
    "    # Replace image paths, copy them\n",
    "    source = re.sub(r\"Magazines\\/img\\/Vol\\d\\/(.+\\.png)\", r\"images/\\1\", source)\n",
    "\n",
    "    # Find all images, make sure they're necessary\n",
    "    img_paths = re.findall(r\"images/(.+.png)\", source)\n",
    "    exist_paths = os.listdir(f\"./{new_issue}/images\")\n",
    "    tally = 0\n",
    "    for path in exist_paths:\n",
    "        if not path in img_paths:\n",
    "            try:\n",
    "                os.remove(f\"./{new_issue}/images/{path}\")\n",
    "                tally += 1\n",
    "            except:\n",
    "                print(f\"Some error with {path}...\")\n",
    "    print(f\"Removed {tally}/{len(exist_paths)} unused images.\")\n",
    "\n",
    "    content = re.findall(article_pattern, source)\n",
    "    for i, match in enumerate(content):\n",
    "        title, author, body = match\n",
    "        body = body.strip()\n",
    "        result = rf\"\"\"\n",
    "\\documentclass{{article}}\n",
    "\\usepackage{{graphicx}}\n",
    "\n",
    "\\title{{{title}}}\n",
    "\\author{{{author}}}\n",
    "\n",
    "\\begin{{document}}\n",
    "\n",
    "\\maketitle\n",
    "{body}\n",
    "\\end{{document}}\n",
    "\"\"\".strip()\n",
    "        print(i, slug_author(author), slug_title(title))\n",
    "        with open(f\"./{new_issue}/{slug_author(author)}_{slug_title(title)}.tex\", \"w\", encoding=\"utf8\") as fout:\n",
    "            fout.write(result)"
   ]
  },
  {
   "cell_type": "code",
   "execution_count": 5,
   "metadata": {},
   "outputs": [
    {
     "name": "stdout",
     "output_type": "stream",
     "text": [
      "circle.Vol1.tex sept22\n",
      "Removed 0/20 unused images.\n",
      "0 joyceh goldbachsconjecture\n",
      "1 williamg thegoldenratio\n",
      "2 williamf minesweeperishard\n",
      "3 michaely galoisbiography\n",
      "4 cecilias axiomofchoice\n",
      "5 edwardy agameofpinchingpennies\n",
      "6 owenx poshenlohthetravelingsalesmanofmathematics\n",
      "7 samarthd 2022summerreadingchallengeinfinitepowers\n",
      "8 jasony 2022summerreadingchallengefermatsenigma\n",
      "\n",
      "circle.Vol2.tex oct22\n",
      "Removed 0/27 unused images.\n",
      "0 cecilias alanyardpuzzle\n",
      "1 joyceh specialnumbersineulersidentity\n",
      "2 rohand imaginarilycomplexreallysimple\n",
      "3 williamg anintroductiontoellipticcurves\n",
      "4 owenx estimation\n",
      "\n",
      "circle.Vol3.tex dec22\n",
      "Removed 0/9 unused images.\n",
      "0 williamf recursionproblems\n",
      "1 michaely onlearningmath\n",
      "2 michaely theyoutubemathchannels\n",
      "3 rohand cryptography\n",
      "4 owenx thestoryof24point\n",
      "5 cecilias alanyardproblemgeneralizations\n",
      "6 williamg moreoncomplexnumbers\n",
      "\n",
      "circle.Vol4.tex jan23\n",
      "Removed 0/20 unused images.\n",
      "0 williamg axiomaticmath\n",
      "1 rohand butwhatisvietajumping\n",
      "2 williamf theeuclideanalgorithm\n",
      "3 williamg acommonyetunknownproblemsolvingtechniquestates\n",
      "4 williamf coinchange\n",
      "5 cecilias pascalsphenomenaltriangle\n",
      "6 michaely thestronglawofsmallnumbers\n",
      "7 cecilias arrowsimpossibilitytheorem\n",
      "8 edwardy areyourational\n",
      "\n",
      "circle.Vol5.tex apr23\n",
      "Some error with triangle_areas...\n",
      "Removed 0/7 unused images.\n",
      "0 edwardy shortencountersatjmm2023\n",
      "1 owenx primesandyitangzhang\n",
      "2 michaely gimpsapieceofmathematicalhistory\n",
      "3 owenz allroadsleadtoproblemsolving\n",
      "4 joyceh themilleniumprizeproblems\n",
      "5 williamg combinatorialgamesandnimvalues\n",
      "6 williamf encodingschemes\n",
      "7 williamg mathematicsincomputersciencebinaryexponentiation\n",
      "8 rohand imaginarynumbersdotsinphysics\n",
      "9 williamf triangleareas\n",
      "10 joyceh theparallelpostulate\n",
      "11 michaely mathinotherbases\n",
      "12 cecilias someparadoxicalbrainteasers\n",
      "\n"
     ]
    }
   ],
   "source": [
    "for old_issue, new_issue in issues.items():\n",
    "    print(old_issue, new_issue)\n",
    "    extract(old_issue, new_issue)\n",
    "    print()"
   ]
  }
 ],
 "metadata": {
  "kernelspec": {
   "display_name": "Python 3",
   "language": "python",
   "name": "python3"
  },
  "language_info": {
   "codemirror_mode": {
    "name": "ipython",
    "version": 3
   },
   "file_extension": ".py",
   "mimetype": "text/x-python",
   "name": "python",
   "nbconvert_exporter": "python",
   "pygments_lexer": "ipython3",
   "version": "3.11.4"
  }
 },
 "nbformat": 4,
 "nbformat_minor": 2
}
